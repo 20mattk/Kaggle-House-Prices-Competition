{
 "cells": [
  {
   "cell_type": "markdown",
   "id": "944b4bdb",
   "metadata": {
    "papermill": {
     "duration": 0.004607,
     "end_time": "2025-02-12T01:04:56.050599",
     "exception": false,
     "start_time": "2025-02-12T01:04:56.045992",
     "status": "completed"
    },
    "tags": []
   },
   "source": [
    "# Imports"
   ]
  },
  {
   "cell_type": "code",
   "execution_count": 1,
   "id": "dfe1182c",
   "metadata": {
    "execution": {
     "iopub.execute_input": "2025-02-12T01:04:56.059423Z",
     "iopub.status.busy": "2025-02-12T01:04:56.058921Z",
     "iopub.status.idle": "2025-02-12T01:04:57.137761Z",
     "shell.execute_reply": "2025-02-12T01:04:57.136304Z"
    },
    "papermill": {
     "duration": 1.084559,
     "end_time": "2025-02-12T01:04:57.139748",
     "exception": false,
     "start_time": "2025-02-12T01:04:56.055189",
     "status": "completed"
    },
    "tags": []
   },
   "outputs": [],
   "source": [
    "import numpy as np\n",
    "import pandas as pd\n",
    "\n",
    "pd.set_option('display.max_columns', None)"
   ]
  },
  {
   "cell_type": "code",
   "execution_count": 2,
   "id": "579b2d27",
   "metadata": {
    "_cell_guid": "b1076dfc-b9ad-4769-8c92-a6c4dae69d19",
    "_uuid": "8f2839f25d086af736a60e9eeb907d3b93b6e0e5",
    "execution": {
     "iopub.execute_input": "2025-02-12T01:04:57.146227Z",
     "iopub.status.busy": "2025-02-12T01:04:57.145665Z",
     "iopub.status.idle": "2025-02-12T01:04:57.154402Z",
     "shell.execute_reply": "2025-02-12T01:04:57.152857Z"
    },
    "papermill": {
     "duration": 0.014049,
     "end_time": "2025-02-12T01:04:57.156372",
     "exception": false,
     "start_time": "2025-02-12T01:04:57.142323",
     "status": "completed"
    },
    "tags": []
   },
   "outputs": [
    {
     "name": "stdout",
     "output_type": "stream",
     "text": [
      "/kaggle/input/store-sales-time-series-forecasting/oil.csv\n",
      "/kaggle/input/store-sales-time-series-forecasting/sample_submission.csv\n",
      "/kaggle/input/store-sales-time-series-forecasting/holidays_events.csv\n",
      "/kaggle/input/store-sales-time-series-forecasting/stores.csv\n",
      "/kaggle/input/store-sales-time-series-forecasting/train.csv\n",
      "/kaggle/input/store-sales-time-series-forecasting/test.csv\n",
      "/kaggle/input/store-sales-time-series-forecasting/transactions.csv\n"
     ]
    }
   ],
   "source": [
    "# Input data files are available in the read-only \"../input/\" directory\n",
    "# For example, running this (by clicking run or pressing Shift+Enter) will list all files under the input directory\n",
    "\n",
    "import os\n",
    "for dirname, _, filenames in os.walk('/kaggle/input'):\n",
    "    for filename in filenames:\n",
    "        print(os.path.join(dirname, filename))\n",
    "\n",
    "# You can write up to 20GB to the current directory (/kaggle/working/) that gets preserved as output when you create a version using \"Save & Run All\" \n",
    "# You can also write temporary files to /kaggle/temp/, but they won't be saved outside of the current session"
   ]
  },
  {
   "cell_type": "markdown",
   "id": "ef17c397",
   "metadata": {
    "papermill": {
     "duration": 0.002184,
     "end_time": "2025-02-12T01:04:57.161246",
     "exception": false,
     "start_time": "2025-02-12T01:04:57.159062",
     "status": "completed"
    },
    "tags": []
   },
   "source": [
    "# Read Data"
   ]
  },
  {
   "cell_type": "code",
   "execution_count": 3,
   "id": "9ac5486d",
   "metadata": {
    "execution": {
     "iopub.execute_input": "2025-02-12T01:04:57.167314Z",
     "iopub.status.busy": "2025-02-12T01:04:57.166974Z",
     "iopub.status.idle": "2025-02-12T01:05:01.081712Z",
     "shell.execute_reply": "2025-02-12T01:05:01.080536Z"
    },
    "papermill": {
     "duration": 3.920031,
     "end_time": "2025-02-12T01:05:01.083715",
     "exception": false,
     "start_time": "2025-02-12T01:04:57.163684",
     "status": "completed"
    },
    "tags": []
   },
   "outputs": [],
   "source": [
    "oil_df = pd.read_csv(dirname + '/oil.csv')\n",
    "sample_submission_df = pd.read_csv(dirname + '/sample_submission.csv')\n",
    "holidays_events_df = pd.read_csv(dirname + '/holidays_events.csv')\n",
    "stores_df = pd.read_csv(dirname + '/stores.csv')\n",
    "train_df = pd.read_csv(dirname + '/train.csv')\n",
    "test_df = pd.read_csv(dirname + '/test.csv')\n",
    "transactions_df = pd.read_csv(dirname + '/transactions.csv')"
   ]
  },
  {
   "cell_type": "markdown",
   "id": "924db109",
   "metadata": {
    "papermill": {
     "duration": 0.002355,
     "end_time": "2025-02-12T01:05:01.088779",
     "exception": false,
     "start_time": "2025-02-12T01:05:01.086424",
     "status": "completed"
    },
    "tags": []
   },
   "source": [
    "# Explore Data"
   ]
  },
  {
   "cell_type": "code",
   "execution_count": 4,
   "id": "555a5550",
   "metadata": {
    "execution": {
     "iopub.execute_input": "2025-02-12T01:05:01.095010Z",
     "iopub.status.busy": "2025-02-12T01:05:01.094537Z",
     "iopub.status.idle": "2025-02-12T01:05:01.577248Z",
     "shell.execute_reply": "2025-02-12T01:05:01.575988Z"
    },
    "papermill": {
     "duration": 0.487634,
     "end_time": "2025-02-12T01:05:01.578957",
     "exception": false,
     "start_time": "2025-02-12T01:05:01.091323",
     "status": "completed"
    },
    "tags": []
   },
   "outputs": [
    {
     "name": "stdout",
     "output_type": "stream",
     "text": [
      "\n",
      "\n",
      "#======== oil_df ========#\n",
      "<class 'pandas.core.frame.DataFrame'>\n",
      "RangeIndex: 1218 entries, 0 to 1217\n",
      "Data columns (total 2 columns):\n",
      " #   Column      Non-Null Count  Dtype  \n",
      "---  ------      --------------  -----  \n",
      " 0   date        1218 non-null   object \n",
      " 1   dcoilwtico  1175 non-null   float64\n",
      "dtypes: float64(1), object(1)\n",
      "memory usage: 19.2+ KB\n",
      "None\n",
      "        dcoilwtico\n",
      "count  1175.000000\n",
      "mean     67.714366\n",
      "std      25.630476\n",
      "min      26.190000\n",
      "25%      46.405000\n",
      "50%      53.190000\n",
      "75%      95.660000\n",
      "max     110.620000\n",
      "\n",
      "\n",
      "#======== sample_submission_df ========#\n",
      "<class 'pandas.core.frame.DataFrame'>\n",
      "RangeIndex: 28512 entries, 0 to 28511\n",
      "Data columns (total 2 columns):\n",
      " #   Column  Non-Null Count  Dtype  \n",
      "---  ------  --------------  -----  \n",
      " 0   id      28512 non-null  int64  \n",
      " 1   sales   28512 non-null  float64\n",
      "dtypes: float64(1), int64(1)\n",
      "memory usage: 445.6 KB\n",
      "None\n",
      "                 id    sales\n",
      "count  2.851200e+04  28512.0\n",
      "mean   3.015144e+06      0.0\n",
      "std    8.230850e+03      0.0\n",
      "min    3.000888e+06      0.0\n",
      "25%    3.008016e+06      0.0\n",
      "50%    3.015144e+06      0.0\n",
      "75%    3.022271e+06      0.0\n",
      "max    3.029399e+06      0.0\n",
      "\n",
      "\n",
      "#======== holidays_events_df ========#\n",
      "<class 'pandas.core.frame.DataFrame'>\n",
      "RangeIndex: 350 entries, 0 to 349\n",
      "Data columns (total 6 columns):\n",
      " #   Column       Non-Null Count  Dtype \n",
      "---  ------       --------------  ----- \n",
      " 0   date         350 non-null    object\n",
      " 1   type         350 non-null    object\n",
      " 2   locale       350 non-null    object\n",
      " 3   locale_name  350 non-null    object\n",
      " 4   description  350 non-null    object\n",
      " 5   transferred  350 non-null    bool  \n",
      "dtypes: bool(1), object(5)\n",
      "memory usage: 14.1+ KB\n",
      "None\n",
      "              date     type    locale locale_name description transferred\n",
      "count          350      350       350         350         350         350\n",
      "unique         312        6         3          24         103           2\n",
      "top     2014-06-25  Holiday  National     Ecuador    Carnaval       False\n",
      "freq             4      221       174         174          10         338\n",
      "\n",
      "\n",
      "#======== stores_df ========#\n",
      "<class 'pandas.core.frame.DataFrame'>\n",
      "RangeIndex: 54 entries, 0 to 53\n",
      "Data columns (total 5 columns):\n",
      " #   Column     Non-Null Count  Dtype \n",
      "---  ------     --------------  ----- \n",
      " 0   store_nbr  54 non-null     int64 \n",
      " 1   city       54 non-null     object\n",
      " 2   state      54 non-null     object\n",
      " 3   type       54 non-null     object\n",
      " 4   cluster    54 non-null     int64 \n",
      "dtypes: int64(2), object(3)\n",
      "memory usage: 2.2+ KB\n",
      "None\n",
      "       store_nbr    cluster\n",
      "count  54.000000  54.000000\n",
      "mean   27.500000   8.481481\n",
      "std    15.732133   4.693395\n",
      "min     1.000000   1.000000\n",
      "25%    14.250000   4.000000\n",
      "50%    27.500000   8.500000\n",
      "75%    40.750000  13.000000\n",
      "max    54.000000  17.000000\n",
      "\n",
      "\n",
      "#======== train_df ========#\n",
      "<class 'pandas.core.frame.DataFrame'>\n",
      "RangeIndex: 3000888 entries, 0 to 3000887\n",
      "Data columns (total 6 columns):\n",
      " #   Column       Dtype  \n",
      "---  ------       -----  \n",
      " 0   id           int64  \n",
      " 1   date         object \n",
      " 2   store_nbr    int64  \n",
      " 3   family       object \n",
      " 4   sales        float64\n",
      " 5   onpromotion  int64  \n",
      "dtypes: float64(1), int64(3), object(2)\n",
      "memory usage: 137.4+ MB\n",
      "None\n",
      "                 id     store_nbr         sales   onpromotion\n",
      "count  3.000888e+06  3.000888e+06  3.000888e+06  3.000888e+06\n",
      "mean   1.500444e+06  2.750000e+01  3.577757e+02  2.602770e+00\n",
      "std    8.662819e+05  1.558579e+01  1.101998e+03  1.221888e+01\n",
      "min    0.000000e+00  1.000000e+00  0.000000e+00  0.000000e+00\n",
      "25%    7.502218e+05  1.400000e+01  0.000000e+00  0.000000e+00\n",
      "50%    1.500444e+06  2.750000e+01  1.100000e+01  0.000000e+00\n",
      "75%    2.250665e+06  4.100000e+01  1.958473e+02  0.000000e+00\n",
      "max    3.000887e+06  5.400000e+01  1.247170e+05  7.410000e+02\n",
      "\n",
      "\n",
      "#======== test_df ========#\n",
      "<class 'pandas.core.frame.DataFrame'>\n",
      "RangeIndex: 28512 entries, 0 to 28511\n",
      "Data columns (total 5 columns):\n",
      " #   Column       Non-Null Count  Dtype \n",
      "---  ------       --------------  ----- \n",
      " 0   id           28512 non-null  int64 \n",
      " 1   date         28512 non-null  object\n",
      " 2   store_nbr    28512 non-null  int64 \n",
      " 3   family       28512 non-null  object\n",
      " 4   onpromotion  28512 non-null  int64 \n",
      "dtypes: int64(3), object(2)\n",
      "memory usage: 1.1+ MB\n",
      "None\n",
      "                 id     store_nbr   onpromotion\n",
      "count  2.851200e+04  28512.000000  28512.000000\n",
      "mean   3.015144e+06     27.500000      6.965383\n",
      "std    8.230850e+03     15.586057     20.683952\n",
      "min    3.000888e+06      1.000000      0.000000\n",
      "25%    3.008016e+06     14.000000      0.000000\n",
      "50%    3.015144e+06     27.500000      0.000000\n",
      "75%    3.022271e+06     41.000000      6.000000\n",
      "max    3.029399e+06     54.000000    646.000000\n",
      "\n",
      "\n",
      "#======== transactions_df ========#\n",
      "<class 'pandas.core.frame.DataFrame'>\n",
      "RangeIndex: 83488 entries, 0 to 83487\n",
      "Data columns (total 3 columns):\n",
      " #   Column        Non-Null Count  Dtype \n",
      "---  ------        --------------  ----- \n",
      " 0   date          83488 non-null  object\n",
      " 1   store_nbr     83488 non-null  int64 \n",
      " 2   transactions  83488 non-null  int64 \n",
      "dtypes: int64(2), object(1)\n",
      "memory usage: 1.9+ MB\n",
      "None\n",
      "          store_nbr  transactions\n",
      "count  83488.000000  83488.000000\n",
      "mean      26.939237   1694.602158\n",
      "std       15.608204    963.286644\n",
      "min        1.000000      5.000000\n",
      "25%       13.000000   1046.000000\n",
      "50%       27.000000   1393.000000\n",
      "75%       40.000000   2079.000000\n",
      "max       54.000000   8359.000000\n"
     ]
    }
   ],
   "source": [
    "def summarize_df(df, name):\n",
    "    print(f\"\\n\\n#======== {name} ========#\")\n",
    "    print(df.info())\n",
    "    print(df.describe())\n",
    "\n",
    "\n",
    "summarize_df(oil_df, 'oil_df')\n",
    "summarize_df(sample_submission_df, 'sample_submission_df')\n",
    "summarize_df(holidays_events_df, 'holidays_events_df')\n",
    "summarize_df(stores_df, 'stores_df')\n",
    "summarize_df(train_df, 'train_df')\n",
    "summarize_df(test_df, 'test_df')\n",
    "summarize_df(transactions_df, 'transactions_df')"
   ]
  }
 ],
 "metadata": {
  "kaggle": {
   "accelerator": "none",
   "dataSources": [
    {
     "databundleVersionId": 2887556,
     "sourceId": 29781,
     "sourceType": "competition"
    }
   ],
   "dockerImageVersionId": 30886,
   "isGpuEnabled": false,
   "isInternetEnabled": true,
   "language": "python",
   "sourceType": "notebook"
  },
  "kernelspec": {
   "display_name": "Python 3",
   "language": "python",
   "name": "python3"
  },
  "language_info": {
   "codemirror_mode": {
    "name": "ipython",
    "version": 3
   },
   "file_extension": ".py",
   "mimetype": "text/x-python",
   "name": "python",
   "nbconvert_exporter": "python",
   "pygments_lexer": "ipython3",
   "version": "3.10.12"
  },
  "papermill": {
   "default_parameters": {},
   "duration": 9.093164,
   "end_time": "2025-02-12T01:05:02.201353",
   "environment_variables": {},
   "exception": null,
   "input_path": "__notebook__.ipynb",
   "output_path": "__notebook__.ipynb",
   "parameters": {},
   "start_time": "2025-02-12T01:04:53.108189",
   "version": "2.6.0"
  }
 },
 "nbformat": 4,
 "nbformat_minor": 5
}
